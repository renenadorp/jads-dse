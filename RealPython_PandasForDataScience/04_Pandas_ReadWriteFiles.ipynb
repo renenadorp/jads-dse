{
 "metadata": {
  "language_info": {
   "codemirror_mode": {
    "name": "ipython",
    "version": 3
   },
   "file_extension": ".py",
   "mimetype": "text/x-python",
   "name": "python",
   "nbconvert_exporter": "python",
   "pygments_lexer": "ipython3",
   "version": "3.7.6-final"
  },
  "orig_nbformat": 2,
  "kernelspec": {
   "name": "python3",
   "display_name": "Python 3"
  }
 },
 "nbformat": 4,
 "nbformat_minor": 2,
 "cells": [
  {
   "cell_type": "code",
   "execution_count": 15,
   "metadata": {},
   "outputs": [],
   "source": [
    "import pandas as pd\n",
    "import numpy as np\n"
   ]
  },
  {
   "cell_type": "code",
   "execution_count": 16,
   "metadata": {},
   "outputs": [],
   "source": [
    "data = {\n",
    "    'CHN': {'COUNTRY': 'China', 'POP': 1_398.72, 'AREA': 9_596.96,\n",
    "            'GDP': 12_234.78, 'CONT': 'Asia'},\n",
    "    'IND': {'COUNTRY': 'India', 'POP': 1_351.16, 'AREA': 3_287.26,\n",
    "            'GDP': 2_575.67, 'CONT': 'Asia', 'IND_DAY': '1947-08-15'},\n",
    "    'USA': {'COUNTRY': 'US', 'POP': 329.74, 'AREA': 9_833.52,\n",
    "            'GDP': 19_485.39, 'CONT': 'N.America',\n",
    "            'IND_DAY': '1776-07-04'},\n",
    "    'IDN': {'COUNTRY': 'Indonesia', 'POP': 268.07, 'AREA': 1_910.93,\n",
    "            'GDP': 1_015.54, 'CONT': 'Asia', 'IND_DAY': '1945-08-17'},\n",
    "    'BRA': {'COUNTRY': 'Brazil', 'POP': 210.32, 'AREA': 8_515.77,\n",
    "            'GDP': 2_055.51, 'CONT': 'S.America', 'IND_DAY': '1822-09-07'},\n",
    "    'PAK': {'COUNTRY': 'Pakistan', 'POP': 205.71, 'AREA': 881.91,\n",
    "            'GDP': 302.14, 'CONT': 'Asia', 'IND_DAY': '1947-08-14'},\n",
    "    'NGA': {'COUNTRY': 'Nigeria', 'POP': 200.96, 'AREA': 923.77,\n",
    "            'GDP': 375.77, 'CONT': 'Africa', 'IND_DAY': '1960-10-01'},\n",
    "    'BGD': {'COUNTRY': 'Bangladesh', 'POP': 167.09, 'AREA': 147.57,\n",
    "            'GDP': 245.63, 'CONT': 'Asia', 'IND_DAY': '1971-03-26'},\n",
    "    'RUS': {'COUNTRY': 'Russia', 'POP': 146.79, 'AREA': 17_098.25,\n",
    "            'GDP': 1_530.75, 'IND_DAY': '1992-06-12'},\n",
    "    'MEX': {'COUNTRY': 'Mexico', 'POP': 126.58, 'AREA': 1_964.38,\n",
    "            'GDP': 1_158.23, 'CONT': 'N.America', 'IND_DAY': '1810-09-16'},\n",
    "    'JPN': {'COUNTRY': 'Japan', 'POP': 126.22, 'AREA': 377.97,\n",
    "            'GDP': 4_872.42, 'CONT': 'Asia'},\n",
    "    'DEU': {'COUNTRY': 'Germany', 'POP': 83.02, 'AREA': 357.11,\n",
    "            'GDP': 3_693.20, 'CONT': 'Europe'},\n",
    "    'FRA': {'COUNTRY': 'France', 'POP': 67.02, 'AREA': 640.68,\n",
    "            'GDP': 2_582.49, 'CONT': 'Europe', 'IND_DAY': '1789-07-14'},\n",
    "    'GBR': {'COUNTRY': 'UK', 'POP': 66.44, 'AREA': 242.50,\n",
    "            'GDP': 2_631.23, 'CONT': 'Europe'},\n",
    "    'ITA': {'COUNTRY': 'Italy', 'POP': 60.36, 'AREA': 301.34,\n",
    "            'GDP': 1_943.84, 'CONT': 'Europe'},\n",
    "    'ARG': {'COUNTRY': 'Argentina', 'POP': 44.94, 'AREA': 2_780.40,\n",
    "            'GDP': 637.49, 'CONT': 'S.America', 'IND_DAY': '1816-07-09'},\n",
    "    'DZA': {'COUNTRY': 'Algeria', 'POP': 43.38, 'AREA': 2_381.74,\n",
    "            'GDP': 167.56, 'CONT': 'Africa', 'IND_DAY': '1962-07-05'},\n",
    "    'CAN': {'COUNTRY': 'Canada', 'POP': 37.59, 'AREA': 9_984.67,\n",
    "            'GDP': 1_647.12, 'CONT': 'N.America', 'IND_DAY': '1867-07-01'},\n",
    "    'AUS': {'COUNTRY': 'Australia', 'POP': 25.47, 'AREA': 7_692.02,\n",
    "            'GDP': 1_408.68, 'CONT': 'Oceania'},\n",
    "    'KAZ': {'COUNTRY': 'Kazakhstan', 'POP': 18.53, 'AREA': 2_724.90,\n",
    "            'GDP': 159.41, 'CONT': 'Asia', 'IND_DAY': '1991-12-16'}\n",
    "}\n",
    "\n",
    "columns = ('COUNTRY', 'POP', 'AREA', 'GDP', 'CONT', 'IND_DAY')"
   ]
  },
  {
   "cell_type": "code",
   "execution_count": 17,
   "metadata": {},
   "outputs": [],
   "source": [
    "df = pd.DataFrame(data)"
   ]
  },
  {
   "source": [
    "# Transpose a Data Frame"
   ],
   "cell_type": "markdown",
   "metadata": {}
  },
  {
   "cell_type": "code",
   "execution_count": 18,
   "metadata": {},
   "outputs": [
    {
     "output_type": "execute_result",
     "data": {
      "text/plain": [
       "        COUNTRY      POP     AREA      GDP       CONT     IND_DAY\n",
       "CHN       China  1398.72  9596.96  12234.8       Asia         NaN\n",
       "IND       India  1351.16  3287.26  2575.67       Asia  1947-08-15\n",
       "USA          US   329.74  9833.52  19485.4  N.America  1776-07-04\n",
       "IDN   Indonesia   268.07  1910.93  1015.54       Asia  1945-08-17\n",
       "BRA      Brazil   210.32  8515.77  2055.51  S.America  1822-09-07\n",
       "PAK    Pakistan   205.71   881.91   302.14       Asia  1947-08-14\n",
       "NGA     Nigeria   200.96   923.77   375.77     Africa  1960-10-01\n",
       "BGD  Bangladesh   167.09   147.57   245.63       Asia  1971-03-26\n",
       "RUS      Russia   146.79  17098.2  1530.75        NaN  1992-06-12\n",
       "MEX      Mexico   126.58  1964.38  1158.23  N.America  1810-09-16\n",
       "JPN       Japan   126.22   377.97  4872.42       Asia         NaN\n",
       "DEU     Germany    83.02   357.11   3693.2     Europe         NaN\n",
       "FRA      France    67.02   640.68  2582.49     Europe  1789-07-14\n",
       "GBR          UK    66.44    242.5  2631.23     Europe         NaN\n",
       "ITA       Italy    60.36   301.34  1943.84     Europe         NaN\n",
       "ARG   Argentina    44.94   2780.4   637.49  S.America  1816-07-09\n",
       "DZA     Algeria    43.38  2381.74   167.56     Africa  1962-07-05\n",
       "CAN      Canada    37.59  9984.67  1647.12  N.America  1867-07-01\n",
       "AUS   Australia    25.47  7692.02  1408.68    Oceania         NaN\n",
       "KAZ  Kazakhstan    18.53   2724.9   159.41       Asia  1991-12-16"
      ],
      "text/html": "<div>\n<style scoped>\n    .dataframe tbody tr th:only-of-type {\n        vertical-align: middle;\n    }\n\n    .dataframe tbody tr th {\n        vertical-align: top;\n    }\n\n    .dataframe thead th {\n        text-align: right;\n    }\n</style>\n<table border=\"1\" class=\"dataframe\">\n  <thead>\n    <tr style=\"text-align: right;\">\n      <th></th>\n      <th>COUNTRY</th>\n      <th>POP</th>\n      <th>AREA</th>\n      <th>GDP</th>\n      <th>CONT</th>\n      <th>IND_DAY</th>\n    </tr>\n  </thead>\n  <tbody>\n    <tr>\n      <th>CHN</th>\n      <td>China</td>\n      <td>1398.72</td>\n      <td>9596.96</td>\n      <td>12234.8</td>\n      <td>Asia</td>\n      <td>NaN</td>\n    </tr>\n    <tr>\n      <th>IND</th>\n      <td>India</td>\n      <td>1351.16</td>\n      <td>3287.26</td>\n      <td>2575.67</td>\n      <td>Asia</td>\n      <td>1947-08-15</td>\n    </tr>\n    <tr>\n      <th>USA</th>\n      <td>US</td>\n      <td>329.74</td>\n      <td>9833.52</td>\n      <td>19485.4</td>\n      <td>N.America</td>\n      <td>1776-07-04</td>\n    </tr>\n    <tr>\n      <th>IDN</th>\n      <td>Indonesia</td>\n      <td>268.07</td>\n      <td>1910.93</td>\n      <td>1015.54</td>\n      <td>Asia</td>\n      <td>1945-08-17</td>\n    </tr>\n    <tr>\n      <th>BRA</th>\n      <td>Brazil</td>\n      <td>210.32</td>\n      <td>8515.77</td>\n      <td>2055.51</td>\n      <td>S.America</td>\n      <td>1822-09-07</td>\n    </tr>\n    <tr>\n      <th>PAK</th>\n      <td>Pakistan</td>\n      <td>205.71</td>\n      <td>881.91</td>\n      <td>302.14</td>\n      <td>Asia</td>\n      <td>1947-08-14</td>\n    </tr>\n    <tr>\n      <th>NGA</th>\n      <td>Nigeria</td>\n      <td>200.96</td>\n      <td>923.77</td>\n      <td>375.77</td>\n      <td>Africa</td>\n      <td>1960-10-01</td>\n    </tr>\n    <tr>\n      <th>BGD</th>\n      <td>Bangladesh</td>\n      <td>167.09</td>\n      <td>147.57</td>\n      <td>245.63</td>\n      <td>Asia</td>\n      <td>1971-03-26</td>\n    </tr>\n    <tr>\n      <th>RUS</th>\n      <td>Russia</td>\n      <td>146.79</td>\n      <td>17098.2</td>\n      <td>1530.75</td>\n      <td>NaN</td>\n      <td>1992-06-12</td>\n    </tr>\n    <tr>\n      <th>MEX</th>\n      <td>Mexico</td>\n      <td>126.58</td>\n      <td>1964.38</td>\n      <td>1158.23</td>\n      <td>N.America</td>\n      <td>1810-09-16</td>\n    </tr>\n    <tr>\n      <th>JPN</th>\n      <td>Japan</td>\n      <td>126.22</td>\n      <td>377.97</td>\n      <td>4872.42</td>\n      <td>Asia</td>\n      <td>NaN</td>\n    </tr>\n    <tr>\n      <th>DEU</th>\n      <td>Germany</td>\n      <td>83.02</td>\n      <td>357.11</td>\n      <td>3693.2</td>\n      <td>Europe</td>\n      <td>NaN</td>\n    </tr>\n    <tr>\n      <th>FRA</th>\n      <td>France</td>\n      <td>67.02</td>\n      <td>640.68</td>\n      <td>2582.49</td>\n      <td>Europe</td>\n      <td>1789-07-14</td>\n    </tr>\n    <tr>\n      <th>GBR</th>\n      <td>UK</td>\n      <td>66.44</td>\n      <td>242.5</td>\n      <td>2631.23</td>\n      <td>Europe</td>\n      <td>NaN</td>\n    </tr>\n    <tr>\n      <th>ITA</th>\n      <td>Italy</td>\n      <td>60.36</td>\n      <td>301.34</td>\n      <td>1943.84</td>\n      <td>Europe</td>\n      <td>NaN</td>\n    </tr>\n    <tr>\n      <th>ARG</th>\n      <td>Argentina</td>\n      <td>44.94</td>\n      <td>2780.4</td>\n      <td>637.49</td>\n      <td>S.America</td>\n      <td>1816-07-09</td>\n    </tr>\n    <tr>\n      <th>DZA</th>\n      <td>Algeria</td>\n      <td>43.38</td>\n      <td>2381.74</td>\n      <td>167.56</td>\n      <td>Africa</td>\n      <td>1962-07-05</td>\n    </tr>\n    <tr>\n      <th>CAN</th>\n      <td>Canada</td>\n      <td>37.59</td>\n      <td>9984.67</td>\n      <td>1647.12</td>\n      <td>N.America</td>\n      <td>1867-07-01</td>\n    </tr>\n    <tr>\n      <th>AUS</th>\n      <td>Australia</td>\n      <td>25.47</td>\n      <td>7692.02</td>\n      <td>1408.68</td>\n      <td>Oceania</td>\n      <td>NaN</td>\n    </tr>\n    <tr>\n      <th>KAZ</th>\n      <td>Kazakhstan</td>\n      <td>18.53</td>\n      <td>2724.9</td>\n      <td>159.41</td>\n      <td>Asia</td>\n      <td>1991-12-16</td>\n    </tr>\n  </tbody>\n</table>\n</div>"
     },
     "metadata": {},
     "execution_count": 18
    }
   ],
   "source": [
    "df.T"
   ]
  },
  {
   "cell_type": "code",
   "execution_count": 20,
   "metadata": {},
   "outputs": [],
   "source": [
    "df.to_csv('countries.csv')"
   ]
  },
  {
   "cell_type": "code",
   "execution_count": 21,
   "metadata": {},
   "outputs": [],
   "source": [
    "df = pd.read_csv('countries.csv', index_col=0)"
   ]
  },
  {
   "cell_type": "code",
   "execution_count": 22,
   "metadata": {},
   "outputs": [
    {
     "output_type": "execute_result",
     "data": {
      "text/plain": [
       "              CHN         IND         USA         IDN         BRA         PAK  \\\n",
       "COUNTRY     China       India          US   Indonesia      Brazil    Pakistan   \n",
       "POP       1398.72     1351.16      329.74      268.07      210.32      205.71   \n",
       "AREA      9596.96     3287.26     9833.52     1910.93     8515.77      881.91   \n",
       "GDP      12234.78     2575.67    19485.39     1015.54     2055.51      302.14   \n",
       "CONT         Asia        Asia   N.America        Asia   S.America        Asia   \n",
       "IND_DAY       NaN  1947-08-15  1776-07-04  1945-08-17  1822-09-07  1947-08-14   \n",
       "\n",
       "                NGA         BGD         RUS         MEX      JPN      DEU  \\\n",
       "COUNTRY     Nigeria  Bangladesh      Russia      Mexico    Japan  Germany   \n",
       "POP          200.96      167.09      146.79      126.58   126.22    83.02   \n",
       "AREA         923.77      147.57    17098.25     1964.38   377.97   357.11   \n",
       "GDP          375.77      245.63     1530.75     1158.23  4872.42   3693.2   \n",
       "CONT         Africa        Asia         NaN   N.America     Asia   Europe   \n",
       "IND_DAY  1960-10-01  1971-03-26  1992-06-12  1810-09-16      NaN      NaN   \n",
       "\n",
       "                FRA      GBR      ITA         ARG         DZA         CAN  \\\n",
       "COUNTRY      France       UK    Italy   Argentina     Algeria      Canada   \n",
       "POP           67.02    66.44    60.36       44.94       43.38       37.59   \n",
       "AREA         640.68    242.5   301.34      2780.4     2381.74     9984.67   \n",
       "GDP         2582.49  2631.23  1943.84      637.49      167.56     1647.12   \n",
       "CONT         Europe   Europe   Europe   S.America      Africa   N.America   \n",
       "IND_DAY  1789-07-14      NaN      NaN  1816-07-09  1962-07-05  1867-07-01   \n",
       "\n",
       "               AUS         KAZ  \n",
       "COUNTRY  Australia  Kazakhstan  \n",
       "POP          25.47       18.53  \n",
       "AREA       7692.02      2724.9  \n",
       "GDP        1408.68      159.41  \n",
       "CONT       Oceania        Asia  \n",
       "IND_DAY        NaN  1991-12-16  "
      ],
      "text/html": "<div>\n<style scoped>\n    .dataframe tbody tr th:only-of-type {\n        vertical-align: middle;\n    }\n\n    .dataframe tbody tr th {\n        vertical-align: top;\n    }\n\n    .dataframe thead th {\n        text-align: right;\n    }\n</style>\n<table border=\"1\" class=\"dataframe\">\n  <thead>\n    <tr style=\"text-align: right;\">\n      <th></th>\n      <th>CHN</th>\n      <th>IND</th>\n      <th>USA</th>\n      <th>IDN</th>\n      <th>BRA</th>\n      <th>PAK</th>\n      <th>NGA</th>\n      <th>BGD</th>\n      <th>RUS</th>\n      <th>MEX</th>\n      <th>JPN</th>\n      <th>DEU</th>\n      <th>FRA</th>\n      <th>GBR</th>\n      <th>ITA</th>\n      <th>ARG</th>\n      <th>DZA</th>\n      <th>CAN</th>\n      <th>AUS</th>\n      <th>KAZ</th>\n    </tr>\n  </thead>\n  <tbody>\n    <tr>\n      <th>COUNTRY</th>\n      <td>China</td>\n      <td>India</td>\n      <td>US</td>\n      <td>Indonesia</td>\n      <td>Brazil</td>\n      <td>Pakistan</td>\n      <td>Nigeria</td>\n      <td>Bangladesh</td>\n      <td>Russia</td>\n      <td>Mexico</td>\n      <td>Japan</td>\n      <td>Germany</td>\n      <td>France</td>\n      <td>UK</td>\n      <td>Italy</td>\n      <td>Argentina</td>\n      <td>Algeria</td>\n      <td>Canada</td>\n      <td>Australia</td>\n      <td>Kazakhstan</td>\n    </tr>\n    <tr>\n      <th>POP</th>\n      <td>1398.72</td>\n      <td>1351.16</td>\n      <td>329.74</td>\n      <td>268.07</td>\n      <td>210.32</td>\n      <td>205.71</td>\n      <td>200.96</td>\n      <td>167.09</td>\n      <td>146.79</td>\n      <td>126.58</td>\n      <td>126.22</td>\n      <td>83.02</td>\n      <td>67.02</td>\n      <td>66.44</td>\n      <td>60.36</td>\n      <td>44.94</td>\n      <td>43.38</td>\n      <td>37.59</td>\n      <td>25.47</td>\n      <td>18.53</td>\n    </tr>\n    <tr>\n      <th>AREA</th>\n      <td>9596.96</td>\n      <td>3287.26</td>\n      <td>9833.52</td>\n      <td>1910.93</td>\n      <td>8515.77</td>\n      <td>881.91</td>\n      <td>923.77</td>\n      <td>147.57</td>\n      <td>17098.25</td>\n      <td>1964.38</td>\n      <td>377.97</td>\n      <td>357.11</td>\n      <td>640.68</td>\n      <td>242.5</td>\n      <td>301.34</td>\n      <td>2780.4</td>\n      <td>2381.74</td>\n      <td>9984.67</td>\n      <td>7692.02</td>\n      <td>2724.9</td>\n    </tr>\n    <tr>\n      <th>GDP</th>\n      <td>12234.78</td>\n      <td>2575.67</td>\n      <td>19485.39</td>\n      <td>1015.54</td>\n      <td>2055.51</td>\n      <td>302.14</td>\n      <td>375.77</td>\n      <td>245.63</td>\n      <td>1530.75</td>\n      <td>1158.23</td>\n      <td>4872.42</td>\n      <td>3693.2</td>\n      <td>2582.49</td>\n      <td>2631.23</td>\n      <td>1943.84</td>\n      <td>637.49</td>\n      <td>167.56</td>\n      <td>1647.12</td>\n      <td>1408.68</td>\n      <td>159.41</td>\n    </tr>\n    <tr>\n      <th>CONT</th>\n      <td>Asia</td>\n      <td>Asia</td>\n      <td>N.America</td>\n      <td>Asia</td>\n      <td>S.America</td>\n      <td>Asia</td>\n      <td>Africa</td>\n      <td>Asia</td>\n      <td>NaN</td>\n      <td>N.America</td>\n      <td>Asia</td>\n      <td>Europe</td>\n      <td>Europe</td>\n      <td>Europe</td>\n      <td>Europe</td>\n      <td>S.America</td>\n      <td>Africa</td>\n      <td>N.America</td>\n      <td>Oceania</td>\n      <td>Asia</td>\n    </tr>\n    <tr>\n      <th>IND_DAY</th>\n      <td>NaN</td>\n      <td>1947-08-15</td>\n      <td>1776-07-04</td>\n      <td>1945-08-17</td>\n      <td>1822-09-07</td>\n      <td>1947-08-14</td>\n      <td>1960-10-01</td>\n      <td>1971-03-26</td>\n      <td>1992-06-12</td>\n      <td>1810-09-16</td>\n      <td>NaN</td>\n      <td>NaN</td>\n      <td>1789-07-14</td>\n      <td>NaN</td>\n      <td>NaN</td>\n      <td>1816-07-09</td>\n      <td>1962-07-05</td>\n      <td>1867-07-01</td>\n      <td>NaN</td>\n      <td>1991-12-16</td>\n    </tr>\n  </tbody>\n</table>\n</div>"
     },
     "metadata": {},
     "execution_count": 22
    }
   ],
   "source": [
    "df"
   ]
  },
  {
   "cell_type": "code",
   "execution_count": 8,
   "metadata": {},
   "outputs": [
    {
     "output_type": "stream",
     "name": "stdout",
     "text": [
      "Requirement already satisfied: xlwt in /Users/rnadorp/Documents/JADS/Development/env/lib/python3.7/site-packages (1.3.0)\n",
      "Requirement already satisfied: openpyxl in /Users/rnadorp/Documents/JADS/Development/env/lib/python3.7/site-packages (3.0.5)\n",
      "Requirement already satisfied: xlsxwriter in /Users/rnadorp/Documents/JADS/Development/env/lib/python3.7/site-packages (1.3.7)\n",
      "Requirement already satisfied: xlrd in /Users/rnadorp/Documents/JADS/Development/env/lib/python3.7/site-packages (1.2.0)\n",
      "Requirement already satisfied: et-xmlfile in /Users/rnadorp/Documents/JADS/Development/env/lib/python3.7/site-packages (from openpyxl) (1.0.1)\n",
      "Requirement already satisfied: jdcal in /Users/rnadorp/Documents/JADS/Development/env/lib/python3.7/site-packages (from openpyxl) (1.4.1)\n",
      "\u001b[33mWARNING: You are using pip version 19.2.3, however version 20.2.4 is available.\n",
      "You should consider upgrading via the 'pip install --upgrade pip' command.\u001b[0m\n",
      "Note: you may need to restart the kernel to use updated packages.\n"
     ]
    }
   ],
   "source": [
    "pip install xlwt openpyxl xlsxwriter xlrd"
   ]
  },
  {
   "cell_type": "code",
   "execution_count": 23,
   "metadata": {},
   "outputs": [],
   "source": [
    "df.to_excel('countries.xlsx')"
   ]
  },
  {
   "cell_type": "code",
   "execution_count": 24,
   "metadata": {},
   "outputs": [],
   "source": [
    "df = pd.read_excel('countries.xlsx', index_col=0)"
   ]
  },
  {
   "cell_type": "code",
   "execution_count": 25,
   "metadata": {},
   "outputs": [
    {
     "output_type": "execute_result",
     "data": {
      "text/plain": [
       "              CHN         IND         USA         IDN         BRA         PAK  \\\n",
       "COUNTRY     China       India          US   Indonesia      Brazil    Pakistan   \n",
       "POP       1398.72     1351.16      329.74      268.07      210.32      205.71   \n",
       "AREA      9596.96     3287.26     9833.52     1910.93     8515.77      881.91   \n",
       "GDP      12234.78     2575.67    19485.39     1015.54     2055.51      302.14   \n",
       "CONT         Asia        Asia   N.America        Asia   S.America        Asia   \n",
       "IND_DAY       NaN  1947-08-15  1776-07-04  1945-08-17  1822-09-07  1947-08-14   \n",
       "\n",
       "                NGA         BGD         RUS         MEX      JPN      DEU  \\\n",
       "COUNTRY     Nigeria  Bangladesh      Russia      Mexico    Japan  Germany   \n",
       "POP          200.96      167.09      146.79      126.58   126.22    83.02   \n",
       "AREA         923.77      147.57    17098.25     1964.38   377.97   357.11   \n",
       "GDP          375.77      245.63     1530.75     1158.23  4872.42   3693.2   \n",
       "CONT         Africa        Asia         NaN   N.America     Asia   Europe   \n",
       "IND_DAY  1960-10-01  1971-03-26  1992-06-12  1810-09-16      NaN      NaN   \n",
       "\n",
       "                FRA      GBR      ITA         ARG         DZA         CAN  \\\n",
       "COUNTRY      France       UK    Italy   Argentina     Algeria      Canada   \n",
       "POP           67.02    66.44    60.36       44.94       43.38       37.59   \n",
       "AREA         640.68    242.5   301.34      2780.4     2381.74     9984.67   \n",
       "GDP         2582.49  2631.23  1943.84      637.49      167.56     1647.12   \n",
       "CONT         Europe   Europe   Europe   S.America      Africa   N.America   \n",
       "IND_DAY  1789-07-14      NaN      NaN  1816-07-09  1962-07-05  1867-07-01   \n",
       "\n",
       "               AUS         KAZ  \n",
       "COUNTRY  Australia  Kazakhstan  \n",
       "POP          25.47       18.53  \n",
       "AREA       7692.02      2724.9  \n",
       "GDP        1408.68      159.41  \n",
       "CONT       Oceania        Asia  \n",
       "IND_DAY        NaN  1991-12-16  "
      ],
      "text/html": "<div>\n<style scoped>\n    .dataframe tbody tr th:only-of-type {\n        vertical-align: middle;\n    }\n\n    .dataframe tbody tr th {\n        vertical-align: top;\n    }\n\n    .dataframe thead th {\n        text-align: right;\n    }\n</style>\n<table border=\"1\" class=\"dataframe\">\n  <thead>\n    <tr style=\"text-align: right;\">\n      <th></th>\n      <th>CHN</th>\n      <th>IND</th>\n      <th>USA</th>\n      <th>IDN</th>\n      <th>BRA</th>\n      <th>PAK</th>\n      <th>NGA</th>\n      <th>BGD</th>\n      <th>RUS</th>\n      <th>MEX</th>\n      <th>JPN</th>\n      <th>DEU</th>\n      <th>FRA</th>\n      <th>GBR</th>\n      <th>ITA</th>\n      <th>ARG</th>\n      <th>DZA</th>\n      <th>CAN</th>\n      <th>AUS</th>\n      <th>KAZ</th>\n    </tr>\n  </thead>\n  <tbody>\n    <tr>\n      <th>COUNTRY</th>\n      <td>China</td>\n      <td>India</td>\n      <td>US</td>\n      <td>Indonesia</td>\n      <td>Brazil</td>\n      <td>Pakistan</td>\n      <td>Nigeria</td>\n      <td>Bangladesh</td>\n      <td>Russia</td>\n      <td>Mexico</td>\n      <td>Japan</td>\n      <td>Germany</td>\n      <td>France</td>\n      <td>UK</td>\n      <td>Italy</td>\n      <td>Argentina</td>\n      <td>Algeria</td>\n      <td>Canada</td>\n      <td>Australia</td>\n      <td>Kazakhstan</td>\n    </tr>\n    <tr>\n      <th>POP</th>\n      <td>1398.72</td>\n      <td>1351.16</td>\n      <td>329.74</td>\n      <td>268.07</td>\n      <td>210.32</td>\n      <td>205.71</td>\n      <td>200.96</td>\n      <td>167.09</td>\n      <td>146.79</td>\n      <td>126.58</td>\n      <td>126.22</td>\n      <td>83.02</td>\n      <td>67.02</td>\n      <td>66.44</td>\n      <td>60.36</td>\n      <td>44.94</td>\n      <td>43.38</td>\n      <td>37.59</td>\n      <td>25.47</td>\n      <td>18.53</td>\n    </tr>\n    <tr>\n      <th>AREA</th>\n      <td>9596.96</td>\n      <td>3287.26</td>\n      <td>9833.52</td>\n      <td>1910.93</td>\n      <td>8515.77</td>\n      <td>881.91</td>\n      <td>923.77</td>\n      <td>147.57</td>\n      <td>17098.25</td>\n      <td>1964.38</td>\n      <td>377.97</td>\n      <td>357.11</td>\n      <td>640.68</td>\n      <td>242.5</td>\n      <td>301.34</td>\n      <td>2780.4</td>\n      <td>2381.74</td>\n      <td>9984.67</td>\n      <td>7692.02</td>\n      <td>2724.9</td>\n    </tr>\n    <tr>\n      <th>GDP</th>\n      <td>12234.78</td>\n      <td>2575.67</td>\n      <td>19485.39</td>\n      <td>1015.54</td>\n      <td>2055.51</td>\n      <td>302.14</td>\n      <td>375.77</td>\n      <td>245.63</td>\n      <td>1530.75</td>\n      <td>1158.23</td>\n      <td>4872.42</td>\n      <td>3693.2</td>\n      <td>2582.49</td>\n      <td>2631.23</td>\n      <td>1943.84</td>\n      <td>637.49</td>\n      <td>167.56</td>\n      <td>1647.12</td>\n      <td>1408.68</td>\n      <td>159.41</td>\n    </tr>\n    <tr>\n      <th>CONT</th>\n      <td>Asia</td>\n      <td>Asia</td>\n      <td>N.America</td>\n      <td>Asia</td>\n      <td>S.America</td>\n      <td>Asia</td>\n      <td>Africa</td>\n      <td>Asia</td>\n      <td>NaN</td>\n      <td>N.America</td>\n      <td>Asia</td>\n      <td>Europe</td>\n      <td>Europe</td>\n      <td>Europe</td>\n      <td>Europe</td>\n      <td>S.America</td>\n      <td>Africa</td>\n      <td>N.America</td>\n      <td>Oceania</td>\n      <td>Asia</td>\n    </tr>\n    <tr>\n      <th>IND_DAY</th>\n      <td>NaN</td>\n      <td>1947-08-15</td>\n      <td>1776-07-04</td>\n      <td>1945-08-17</td>\n      <td>1822-09-07</td>\n      <td>1947-08-14</td>\n      <td>1960-10-01</td>\n      <td>1971-03-26</td>\n      <td>1992-06-12</td>\n      <td>1810-09-16</td>\n      <td>NaN</td>\n      <td>NaN</td>\n      <td>1789-07-14</td>\n      <td>NaN</td>\n      <td>NaN</td>\n      <td>1816-07-09</td>\n      <td>1962-07-05</td>\n      <td>1867-07-01</td>\n      <td>NaN</td>\n      <td>1991-12-16</td>\n    </tr>\n  </tbody>\n</table>\n</div>"
     },
     "metadata": {},
     "execution_count": 25
    }
   ],
   "source": [
    "df"
   ]
  },
  {
   "source": [
    "## Other formats\n",
    "read_json()\n",
    "read_html()\n",
    "read_sql()\n",
    "read_pickle()"
   ],
   "cell_type": "markdown",
   "metadata": {}
  },
  {
   "source": [
    "# Working with CSV files"
   ],
   "cell_type": "markdown",
   "metadata": {}
  },
  {
   "cell_type": "code",
   "execution_count": 26,
   "metadata": {},
   "outputs": [],
   "source": [
    "# Change behaviour re missing data\n",
    "df.to_csv('data.csv', na_rep='(missing)')"
   ]
  },
  {
   "cell_type": "code",
   "execution_count": 27,
   "metadata": {},
   "outputs": [
    {
     "output_type": "execute_result",
     "data": {
      "text/plain": [
       "              CHN         IND         USA         IDN         BRA         PAK  \\\n",
       "COUNTRY     China       India          US   Indonesia      Brazil    Pakistan   \n",
       "POP       1398.72     1351.16      329.74      268.07      210.32      205.71   \n",
       "AREA      9596.96     3287.26     9833.52     1910.93     8515.77      881.91   \n",
       "GDP      12234.78     2575.67    19485.39     1015.54     2055.51      302.14   \n",
       "CONT         Asia        Asia   N.America        Asia   S.America        Asia   \n",
       "IND_DAY       NaN  1947-08-15  1776-07-04  1945-08-17  1822-09-07  1947-08-14   \n",
       "\n",
       "                NGA         BGD         RUS         MEX      JPN      DEU  \\\n",
       "COUNTRY     Nigeria  Bangladesh      Russia      Mexico    Japan  Germany   \n",
       "POP          200.96      167.09      146.79      126.58   126.22    83.02   \n",
       "AREA         923.77      147.57    17098.25     1964.38   377.97   357.11   \n",
       "GDP          375.77      245.63     1530.75     1158.23  4872.42   3693.2   \n",
       "CONT         Africa        Asia         NaN   N.America     Asia   Europe   \n",
       "IND_DAY  1960-10-01  1971-03-26  1992-06-12  1810-09-16      NaN      NaN   \n",
       "\n",
       "                FRA      GBR      ITA         ARG         DZA         CAN  \\\n",
       "COUNTRY      France       UK    Italy   Argentina     Algeria      Canada   \n",
       "POP           67.02    66.44    60.36       44.94       43.38       37.59   \n",
       "AREA         640.68    242.5   301.34      2780.4     2381.74     9984.67   \n",
       "GDP         2582.49  2631.23  1943.84      637.49      167.56     1647.12   \n",
       "CONT         Europe   Europe   Europe   S.America      Africa   N.America   \n",
       "IND_DAY  1789-07-14      NaN      NaN  1816-07-09  1962-07-05  1867-07-01   \n",
       "\n",
       "               AUS         KAZ  \n",
       "COUNTRY  Australia  Kazakhstan  \n",
       "POP          25.47       18.53  \n",
       "AREA       7692.02      2724.9  \n",
       "GDP        1408.68      159.41  \n",
       "CONT       Oceania        Asia  \n",
       "IND_DAY        NaN  1991-12-16  "
      ],
      "text/html": "<div>\n<style scoped>\n    .dataframe tbody tr th:only-of-type {\n        vertical-align: middle;\n    }\n\n    .dataframe tbody tr th {\n        vertical-align: top;\n    }\n\n    .dataframe thead th {\n        text-align: right;\n    }\n</style>\n<table border=\"1\" class=\"dataframe\">\n  <thead>\n    <tr style=\"text-align: right;\">\n      <th></th>\n      <th>CHN</th>\n      <th>IND</th>\n      <th>USA</th>\n      <th>IDN</th>\n      <th>BRA</th>\n      <th>PAK</th>\n      <th>NGA</th>\n      <th>BGD</th>\n      <th>RUS</th>\n      <th>MEX</th>\n      <th>JPN</th>\n      <th>DEU</th>\n      <th>FRA</th>\n      <th>GBR</th>\n      <th>ITA</th>\n      <th>ARG</th>\n      <th>DZA</th>\n      <th>CAN</th>\n      <th>AUS</th>\n      <th>KAZ</th>\n    </tr>\n  </thead>\n  <tbody>\n    <tr>\n      <th>COUNTRY</th>\n      <td>China</td>\n      <td>India</td>\n      <td>US</td>\n      <td>Indonesia</td>\n      <td>Brazil</td>\n      <td>Pakistan</td>\n      <td>Nigeria</td>\n      <td>Bangladesh</td>\n      <td>Russia</td>\n      <td>Mexico</td>\n      <td>Japan</td>\n      <td>Germany</td>\n      <td>France</td>\n      <td>UK</td>\n      <td>Italy</td>\n      <td>Argentina</td>\n      <td>Algeria</td>\n      <td>Canada</td>\n      <td>Australia</td>\n      <td>Kazakhstan</td>\n    </tr>\n    <tr>\n      <th>POP</th>\n      <td>1398.72</td>\n      <td>1351.16</td>\n      <td>329.74</td>\n      <td>268.07</td>\n      <td>210.32</td>\n      <td>205.71</td>\n      <td>200.96</td>\n      <td>167.09</td>\n      <td>146.79</td>\n      <td>126.58</td>\n      <td>126.22</td>\n      <td>83.02</td>\n      <td>67.02</td>\n      <td>66.44</td>\n      <td>60.36</td>\n      <td>44.94</td>\n      <td>43.38</td>\n      <td>37.59</td>\n      <td>25.47</td>\n      <td>18.53</td>\n    </tr>\n    <tr>\n      <th>AREA</th>\n      <td>9596.96</td>\n      <td>3287.26</td>\n      <td>9833.52</td>\n      <td>1910.93</td>\n      <td>8515.77</td>\n      <td>881.91</td>\n      <td>923.77</td>\n      <td>147.57</td>\n      <td>17098.25</td>\n      <td>1964.38</td>\n      <td>377.97</td>\n      <td>357.11</td>\n      <td>640.68</td>\n      <td>242.5</td>\n      <td>301.34</td>\n      <td>2780.4</td>\n      <td>2381.74</td>\n      <td>9984.67</td>\n      <td>7692.02</td>\n      <td>2724.9</td>\n    </tr>\n    <tr>\n      <th>GDP</th>\n      <td>12234.78</td>\n      <td>2575.67</td>\n      <td>19485.39</td>\n      <td>1015.54</td>\n      <td>2055.51</td>\n      <td>302.14</td>\n      <td>375.77</td>\n      <td>245.63</td>\n      <td>1530.75</td>\n      <td>1158.23</td>\n      <td>4872.42</td>\n      <td>3693.2</td>\n      <td>2582.49</td>\n      <td>2631.23</td>\n      <td>1943.84</td>\n      <td>637.49</td>\n      <td>167.56</td>\n      <td>1647.12</td>\n      <td>1408.68</td>\n      <td>159.41</td>\n    </tr>\n    <tr>\n      <th>CONT</th>\n      <td>Asia</td>\n      <td>Asia</td>\n      <td>N.America</td>\n      <td>Asia</td>\n      <td>S.America</td>\n      <td>Asia</td>\n      <td>Africa</td>\n      <td>Asia</td>\n      <td>NaN</td>\n      <td>N.America</td>\n      <td>Asia</td>\n      <td>Europe</td>\n      <td>Europe</td>\n      <td>Europe</td>\n      <td>Europe</td>\n      <td>S.America</td>\n      <td>Africa</td>\n      <td>N.America</td>\n      <td>Oceania</td>\n      <td>Asia</td>\n    </tr>\n    <tr>\n      <th>IND_DAY</th>\n      <td>NaN</td>\n      <td>1947-08-15</td>\n      <td>1776-07-04</td>\n      <td>1945-08-17</td>\n      <td>1822-09-07</td>\n      <td>1947-08-14</td>\n      <td>1960-10-01</td>\n      <td>1971-03-26</td>\n      <td>1992-06-12</td>\n      <td>1810-09-16</td>\n      <td>NaN</td>\n      <td>NaN</td>\n      <td>1789-07-14</td>\n      <td>NaN</td>\n      <td>NaN</td>\n      <td>1816-07-09</td>\n      <td>1962-07-05</td>\n      <td>1867-07-01</td>\n      <td>NaN</td>\n      <td>1991-12-16</td>\n    </tr>\n  </tbody>\n</table>\n</div>"
     },
     "metadata": {},
     "execution_count": 27
    }
   ],
   "source": [
    "pd.read_csv('new-data.csv', index_col=0, na_values='(missing)')"
   ]
  },
  {
   "cell_type": "code",
   "execution_count": 30,
   "metadata": {},
   "outputs": [],
   "source": [
    "dtypes = {'POP': 'float32', 'AREA': 'float32', 'GDP': 'float32'}\n",
    "df = pd.read_csv('countries.csv', index_col=0, dtype=dtypes)\n"
   ]
  },
  {
   "cell_type": "code",
   "execution_count": 33,
   "metadata": {},
   "outputs": [],
   "source": [
    "df.T.to_csv('countriesT.csv')"
   ]
  },
  {
   "cell_type": "code",
   "execution_count": 35,
   "metadata": {},
   "outputs": [],
   "source": [
    "df = pd.read_csv('countriesT.csv', index_col=0, dtype=dtypes, parse_dates=['IND_DAY'])\n"
   ]
  },
  {
   "cell_type": "code",
   "execution_count": 37,
   "metadata": {},
   "outputs": [
    {
     "output_type": "execute_result",
     "data": {
      "text/plain": [
       "COUNTRY            object\n",
       "POP               float32\n",
       "AREA              float32\n",
       "GDP               float32\n",
       "CONT               object\n",
       "IND_DAY    datetime64[ns]\n",
       "dtype: object"
      ]
     },
     "metadata": {},
     "execution_count": 37
    }
   ],
   "source": [
    "df.dtypes"
   ]
  },
  {
   "cell_type": "code",
   "execution_count": null,
   "metadata": {},
   "outputs": [],
   "source": []
  }
 ]
}